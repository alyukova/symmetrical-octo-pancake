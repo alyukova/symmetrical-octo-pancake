{
  "nbformat": 4,
  "nbformat_minor": 0,
  "metadata": {
    "colab": {
      "provenance": [],
      "authorship_tag": "ABX9TyMKStEBOhQjozUzpjfZKy5s",
      "include_colab_link": true
    },
    "kernelspec": {
      "name": "python3",
      "display_name": "Python 3"
    },
    "language_info": {
      "name": "python"
    }
  },
  "cells": [
    {
      "cell_type": "markdown",
      "metadata": {
        "id": "view-in-github",
        "colab_type": "text"
      },
      "source": [
        "<a href=\"https://colab.research.google.com/github/alyukova/symmetrical-octo-pancake/blob/main/3_1_1ipynb.ipynb\" target=\"_parent\"><img src=\"https://colab.research.google.com/assets/colab-badge.svg\" alt=\"Open In Colab\"/></a>"
      ]
    },
    {
      "cell_type": "code",
      "execution_count": 1,
      "metadata": {
        "id": "x_lFycxWNnYq"
      },
      "outputs": [],
      "source": [
        "import pandas as pd"
      ]
    },
    {
      "cell_type": "code",
      "source": [
        "def grade(score):\n",
        "  if score>=0 and score<60:\n",
        "    return 'неудовлетворительно'\n",
        "  elif score<=74:\n",
        "    return 'удовлетворительно'\n",
        "  elif score<=90:\n",
        "    return 'хорошо'\n",
        "  else:\n",
        "    return 'отлично'\n",
        ""
      ],
      "metadata": {
        "id": "DgQ_9TdRPswB"
      },
      "execution_count": 2,
      "outputs": []
    },
    {
      "cell_type": "code",
      "source": [
        "print (grade(74))"
      ],
      "metadata": {
        "colab": {
          "base_uri": "https://localhost:8080/"
        },
        "id": "FmNlTtyiQhKs",
        "outputId": "5d7c8c2c-89bb-45c3-8f58-625ef832dccc"
      },
      "execution_count": 7,
      "outputs": [
        {
          "output_type": "stream",
          "name": "stdout",
          "text": [
            "удовлетворительно\n"
          ]
        }
      ]
    },
    {
      "cell_type": "code",
      "source": [
        "def solve(a,b):\n",
        "  if a == 0 and b != 0:\n",
        "    return 'Error'\n",
        "  elif a == 0 and b == 0:\n",
        "    return 'Any'\n",
        "  else:\n",
        "    x = b/a\n",
        "    return x\n",
        ""
      ],
      "metadata": {
        "id": "u--RUh2pQ3J9"
      },
      "execution_count": 14,
      "outputs": []
    },
    {
      "cell_type": "code",
      "source": [
        "print (solve(0,0))"
      ],
      "metadata": {
        "colab": {
          "base_uri": "https://localhost:8080/"
        },
        "id": "fTXmWbLgRmsF",
        "outputId": "7e7c8646-aaa9-443c-a587-5a64b65df33c"
      },
      "execution_count": 16,
      "outputs": [
        {
          "output_type": "stream",
          "name": "stdout",
          "text": [
            "Any\n"
          ]
        }
      ]
    },
    {
      "cell_type": "markdown",
      "source": [],
      "metadata": {
        "id": "FGqBnT4YQDGJ"
      }
    }
  ]
}